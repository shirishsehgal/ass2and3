{
 "cells": [
  {
   "cell_type": "code",
   "execution_count": 7,
   "metadata": {},
   "outputs": [
    {
     "name": "stdout",
     "output_type": "stream",
     "text": [
      "<bound method stack.isempty of <__main__.stack object at 0x0606F890>>\n"
     ]
    },
    {
     "ename": "AttributeError",
     "evalue": "'stack' object has no attribute 'items'",
     "output_type": "error",
     "traceback": [
      "\u001b[1;31m---------------------------------------------------------------------------\u001b[0m",
      "\u001b[1;31mAttributeError\u001b[0m                            Traceback (most recent call last)",
      "\u001b[1;32m<ipython-input-7-39698f109c7f>\u001b[0m in \u001b[0;36m<module>\u001b[1;34m\u001b[0m\n\u001b[0;32m     18\u001b[0m \u001b[0ms\u001b[0m\u001b[1;33m=\u001b[0m\u001b[0mstack\u001b[0m\u001b[1;33m(\u001b[0m\u001b[1;33m)\u001b[0m\u001b[1;33m\u001b[0m\u001b[1;33m\u001b[0m\u001b[0m\n\u001b[0;32m     19\u001b[0m \u001b[0mprint\u001b[0m\u001b[1;33m(\u001b[0m\u001b[0ms\u001b[0m\u001b[1;33m.\u001b[0m\u001b[0misempty\u001b[0m\u001b[1;33m)\u001b[0m\u001b[1;33m\u001b[0m\u001b[1;33m\u001b[0m\u001b[0m\n\u001b[1;32m---> 20\u001b[1;33m \u001b[0ms\u001b[0m\u001b[1;33m.\u001b[0m\u001b[0mpush\u001b[0m\u001b[1;33m(\u001b[0m\u001b[1;34m\"shirish\"\u001b[0m\u001b[1;33m)\u001b[0m\u001b[1;33m\u001b[0m\u001b[1;33m\u001b[0m\u001b[0m\n\u001b[0m\u001b[0;32m     21\u001b[0m \u001b[0ms\u001b[0m\u001b[1;33m.\u001b[0m\u001b[0mpush\u001b[0m\u001b[1;33m(\u001b[0m\u001b[1;34m\"is\"\u001b[0m\u001b[1;33m)\u001b[0m\u001b[1;33m\u001b[0m\u001b[1;33m\u001b[0m\u001b[0m\n\u001b[0;32m     22\u001b[0m \u001b[0ms\u001b[0m\u001b[1;33m.\u001b[0m\u001b[0mpush\u001b[0m\u001b[1;33m(\u001b[0m\u001b[1;36m22\u001b[0m\u001b[1;33m)\u001b[0m\u001b[1;33m\u001b[0m\u001b[1;33m\u001b[0m\u001b[0m\n",
      "\u001b[1;32m<ipython-input-7-39698f109c7f>\u001b[0m in \u001b[0;36mpush\u001b[1;34m(self, item)\u001b[0m\n\u001b[0;32m      7\u001b[0m         \u001b[1;32mreturn\u001b[0m \u001b[0mself\u001b[0m\u001b[1;33m.\u001b[0m\u001b[0mitems\u001b[0m\u001b[1;33m==\u001b[0m\u001b[1;33m[\u001b[0m\u001b[1;33m]\u001b[0m\u001b[1;33m\u001b[0m\u001b[1;33m\u001b[0m\u001b[0m\n\u001b[0;32m      8\u001b[0m     \u001b[1;32mdef\u001b[0m \u001b[0mpush\u001b[0m\u001b[1;33m(\u001b[0m\u001b[0mself\u001b[0m\u001b[1;33m,\u001b[0m\u001b[0mitem\u001b[0m\u001b[1;33m)\u001b[0m\u001b[1;33m:\u001b[0m\u001b[1;33m\u001b[0m\u001b[1;33m\u001b[0m\u001b[0m\n\u001b[1;32m----> 9\u001b[1;33m         \u001b[0mself\u001b[0m\u001b[1;33m.\u001b[0m\u001b[0mitems\u001b[0m\u001b[1;33m.\u001b[0m\u001b[0mappend\u001b[0m\u001b[1;33m(\u001b[0m\u001b[0mitem\u001b[0m\u001b[1;33m)\u001b[0m\u001b[1;33m\u001b[0m\u001b[1;33m\u001b[0m\u001b[0m\n\u001b[0m\u001b[0;32m     10\u001b[0m     \u001b[1;32mdef\u001b[0m \u001b[0mpop\u001b[0m\u001b[1;33m(\u001b[0m\u001b[0mself\u001b[0m\u001b[1;33m)\u001b[0m\u001b[1;33m:\u001b[0m\u001b[1;33m\u001b[0m\u001b[1;33m\u001b[0m\u001b[0m\n\u001b[0;32m     11\u001b[0m         \u001b[1;32mreturn\u001b[0m \u001b[0mself\u001b[0m\u001b[1;33m.\u001b[0m\u001b[0mitems\u001b[0m\u001b[1;33m.\u001b[0m\u001b[0mpop\u001b[0m\u001b[1;33m(\u001b[0m\u001b[1;33m)\u001b[0m\u001b[1;33m\u001b[0m\u001b[1;33m\u001b[0m\u001b[0m\n",
      "\u001b[1;31mAttributeError\u001b[0m: 'stack' object has no attribute 'items'"
     ]
    }
   ],
   "source": [
    "#implementation of stack\n",
    "class stack:\n",
    "    def _init_(self,items):\n",
    "        self.items=[]\n",
    "        \n",
    "    def isempty(self):\n",
    "        return self.items==[]\n",
    "    def push(self,item):\n",
    "        self.items.append(item)\n",
    "    def pop(self):\n",
    "        return self.items.pop()\n",
    "    def size(self):\n",
    "        return len(self.items)\n",
    "    def printstack(self):\n",
    "        for items in reversed(self.items):\n",
    "            print(items)\n",
    "            \n",
    "s=stack()\n",
    "print(s.isempty)\n",
    "s.push(\"shirish\")\n",
    "s.push(\"is\")\n",
    "s.push(22)\n",
    "s.push(\"years\")\n",
    "print(s.isempty)\n",
    "s.printstack()\n",
    "print(s.pop())\n",
    "s.printstack()"
   ]
  },
  {
   "cell_type": "code",
   "execution_count": 8,
   "metadata": {},
   "outputs": [
    {
     "name": "stdout",
     "output_type": "stream",
     "text": [
      "['Amar', 'Akbar', 'Anthony', 'Ram', 'Iqbal']\n",
      "Iqbal\n",
      "['Amar', 'Akbar', 'Anthony', 'Ram']\n",
      "Ram\n",
      "['Amar', 'Akbar', 'Anthony']\n"
     ]
    }
   ],
   "source": [
    "stack = [\"Amar\", \"Akbar\", \"Anthony\"] \n",
    "stack.append(\"Ram\") \n",
    "stack.append(\"Iqbal\") \n",
    "print(stack) \n",
    "print(stack.pop()) \n",
    "print(stack) \n",
    "print(stack.pop()) \n",
    "print(stack) "
   ]
  },
  {
   "cell_type": "code",
   "execution_count": 10,
   "metadata": {},
   "outputs": [
    {
     "name": "stdout",
     "output_type": "stream",
     "text": [
      "deque(['shirish', 'sehgal', 'is', 22])\n",
      "deque(['shirish', 'sehgal', 'is', 22, 'ram'])\n",
      "deque(['shirish', 'sehgal', 'is', 22, 'ram', 'shyam'])\n",
      "shirish\n",
      "sehgal\n",
      "deque(['is', 22, 'ram', 'shyam'])\n"
     ]
    }
   ],
   "source": [
    "#implementation of queue\n",
    "from collections import deque\n",
    "queue=deque([\"shirish\",\"sehgal\",\"is\",22])\n",
    "print(queue)\n",
    "queue.append(\"ram\")\n",
    "print(queue)\n",
    "queue.append(\"shyam\")\n",
    "print(queue)\n",
    "print(queue.popleft())\n",
    "print(queue.popleft())\n",
    "print(queue)"
   ]
  },
  {
   "cell_type": "code",
   "execution_count": null,
   "metadata": {},
   "outputs": [],
   "source": [
    "#assignment -2"
   ]
  },
  {
   "cell_type": "code",
   "execution_count": 2,
   "metadata": {},
   "outputs": [
    {
     "name": "stdout",
     "output_type": "stream",
     "text": [
      "enter the string:shirish\n",
      "length of string is: 7\n"
     ]
    }
   ],
   "source": [
    "#to find length of a string using loop\n",
    "a=input(\"enter the string:\")\n",
    "count=0\n",
    "for i in a:\n",
    "    count=count+1\n",
    "    \n",
    "print(\"length of string is:\" , count)\n"
   ]
  },
  {
   "cell_type": "code",
   "execution_count": 3,
   "metadata": {},
   "outputs": [
    {
     "name": "stdout",
     "output_type": "stream",
     "text": [
      "enter the first string:shirish\n",
      "enter the second string:sehgal\n",
      "shirishsehgal\n"
     ]
    }
   ],
   "source": [
    "#to concatenate two strings\n",
    "a=input(\"enter the first string:\")\n",
    "b=input(\"enter the second string:\")\n",
    "print(a+b)"
   ]
  },
  {
   "cell_type": "code",
   "execution_count": 8,
   "metadata": {},
   "outputs": [
    {
     "name": "stdout",
     "output_type": "stream",
     "text": [
      "number of letters is: 25\n",
      "number of digits is: 3\n"
     ]
    }
   ],
   "source": [
    "#to calculate no .of letters and digits in a sentence\n",
    "a='this is a test sentence number 389'\n",
    "count=0\n",
    "digit=0\n",
    "for i in a:\n",
    "    if(i.isalpha()):\n",
    "        count=count+1\n",
    "    elif(i.isdigit()):\n",
    "        digit=digit+1\n",
    "print(\"number of letters is:\", count)\n",
    "print(\"number of digits is:\",digit)\n"
   ]
  },
  {
   "cell_type": "code",
   "execution_count": 9,
   "metadata": {},
   "outputs": [
    {
     "name": "stdout",
     "output_type": "stream",
     "text": [
      "enter the string:hello\n",
      "HELLO\n"
     ]
    }
   ],
   "source": [
    "#4\n",
    "s=input(\"enter the string:\")\n",
    "print(s.upper())"
   ]
  },
  {
   "cell_type": "code",
   "execution_count": 4,
   "metadata": {},
   "outputs": [
    {
     "name": "stdout",
     "output_type": "stream",
     "text": [
      "enter the string:SHIrish\n",
      "uppercase: 3\n",
      "lowercase: 4\n"
     ]
    }
   ],
   "source": [
    "#5\n",
    "s=input(\"enter the string:\")\n",
    "count1=0\n",
    "count2=0\n",
    "\n",
    "for i in s:\n",
    "    if(i.isupper()):\n",
    "        count1=count1+1\n",
    "    elif(i.islower):\n",
    "        count2=count2+1\n",
    "print(\"uppercase:\",count1)\n",
    "print(\"lowercase:\",count2)\n",
    "    \n"
   ]
  },
  {
   "cell_type": "code",
   "execution_count": 5,
   "metadata": {},
   "outputs": [
    {
     "name": "stdout",
     "output_type": "stream",
     "text": [
      "shIRISH\n"
     ]
    }
   ],
   "source": [
    "#6\n",
    "s=\"SHirish\"\n",
    "print(s.swapcase())"
   ]
  },
  {
   "cell_type": "code",
   "execution_count": 9,
   "metadata": {},
   "outputs": [
    {
     "name": "stdout",
     "output_type": "stream",
     "text": [
      "shIRISH"
     ]
    }
   ],
   "source": [
    "s1=\"SHirish\"\n",
    "for i in s:\n",
    "    if(i.isupper()):\n",
    "        print(i.lower(),end=\"\")\n",
    "    elif(i.islower()):\n",
    "        print(i.upper(),end=\"\")"
   ]
  },
  {
   "cell_type": "code",
   "execution_count": 5,
   "metadata": {},
   "outputs": [
    {
     "name": "stdout",
     "output_type": "stream",
     "text": [
      "3\n"
     ]
    }
   ],
   "source": [
    "#7\n",
    "s=\"This is a test string\"\n",
    "print(s.count(\"i\"))"
   ]
  },
  {
   "cell_type": "code",
   "execution_count": 1,
   "metadata": {},
   "outputs": [
    {
     "name": "stdout",
     "output_type": "stream",
     "text": [
      "enter the string :abc\n",
      "not a palindrome\n"
     ]
    }
   ],
   "source": [
    "#8\n",
    "a=input(\"enter the string :\")\n",
    "b=a[::-1]\n",
    "if(a==b):\n",
    "    print(\"palindrome\")\n",
    "else:\n",
    "    print(\"not a palindrome\")"
   ]
  },
  {
   "cell_type": "code",
   "execution_count": 3,
   "metadata": {},
   "outputs": [
    {
     "name": "stdout",
     "output_type": "stream",
     "text": [
      "enter a string:hello\n",
      "enter the index:0\n",
      "character u want to change:j\n",
      "['j', 'e', 'l', 'l', 'o']\n"
     ]
    }
   ],
   "source": [
    "#9\n",
    "a=input(\"enter a string:\")\n",
    "b=int(input(\"enter the index:\"))\n",
    "c=input(\"character u want to change:\")\n",
    "d=list(a)\n",
    "d[b]=c\n",
    "a=str(d)\n",
    "print(\"\".join(map(str,a)))"
   ]
  },
  {
   "cell_type": "code",
   "execution_count": 4,
   "metadata": {},
   "outputs": [
    {
     "name": "stdout",
     "output_type": "stream",
     "text": [
      "enter a stringshirishshirishsehgal\n",
      "enter a substringshirish\n",
      "2\n"
     ]
    }
   ],
   "source": [
    "#10\n",
    "a=input(\"enter a string\")\n",
    "b=input(\"enter a substring\")\n",
    "print(a.count(b))"
   ]
  },
  {
   "cell_type": "code",
   "execution_count": 5,
   "metadata": {},
   "outputs": [
    {
     "name": "stdout",
     "output_type": "stream",
     "text": [
      "enter a binary number:110001111\n",
      "enter occurences:4\n",
      "True\n"
     ]
    }
   ],
   "source": [
    "#11\n",
    "n=input(\"enter a binary number:\")\n",
    "k=int(input(\"enter occurences:\"))\n",
    "numbers='1'*k\n",
    "if numbers in n:\n",
    "    print(\"True\")\n",
    "else:\n",
    "    print(\"false\")"
   ]
  },
  {
   "cell_type": "code",
   "execution_count": 6,
   "metadata": {},
   "outputs": [
    {
     "name": "stdout",
     "output_type": "stream",
     "text": [
      "enter a string:shirish\n",
      "hsirihs\n"
     ]
    }
   ],
   "source": [
    "#12\n",
    "n=input(\"enter a string:\")\n",
    "print(n[::-1])"
   ]
  },
  {
   "cell_type": "code",
   "execution_count": 13,
   "metadata": {},
   "outputs": [
    {
     "name": "stdout",
     "output_type": "stream",
     "text": [
      "2\n"
     ]
    }
   ],
   "source": [
    "#13\n",
    "def non(l,n):\n",
    "    for i in l:\n",
    "        j=0\n",
    "        while(j < n): \n",
    "            if (i!= j and l[i] == l[j]): \n",
    "                break\n",
    "            j += 1\n",
    "        if (j == n): \n",
    "            return l[i] \n",
    "      \n",
    "    return -1\n",
    "l=[1,2,3,4,5,6,6 ]\n",
    "n=len(l)\n",
    "print(non(l,n))\n",
    "\n"
   ]
  },
  {
   "cell_type": "code",
   "execution_count": 14,
   "metadata": {},
   "outputs": [
    {
     "name": "stdout",
     "output_type": "stream",
     "text": [
      "enter the first string:coding blocks\n",
      "enter the second string:blocks\n",
      "b is substring of a\n"
     ]
    }
   ],
   "source": [
    "#14\n",
    "a=input(\"enter the first string:\")\n",
    "b=input(\"enter the second string:\")\n",
    "if b in a:\n",
    "    print(\"b is substring of a\")\n",
    "else:\n",
    "    print(\"b is not substring of a\")"
   ]
  },
  {
   "cell_type": "code",
   "execution_count": 20,
   "metadata": {},
   "outputs": [
    {
     "name": "stdout",
     "output_type": "stream",
     "text": [
      "enter your passwordW3r@100a\n",
      "valid password\n"
     ]
    }
   ],
   "source": [
    "#15(password validator using regex)\n",
    "import re\n",
    "p=input(\"enter your password\")\n",
    "x=True\n",
    "while x:\n",
    "    if(len(p)<6 or len(p)>12):\n",
    "        break\n",
    "    elif not re.search(\"[a-z]\",p):\n",
    "        break\n",
    "    elif not re.search(\"[A-Z]\",p):\n",
    "        breakelif\n",
    "    elif not re.search(\"[0-9]\",p):\n",
    "        break\n",
    "    elif not re.search(\"[@$#]\",p):\n",
    "        break\n",
    "    else:\n",
    "        print(\"valid password\")\n",
    "        x=False\n",
    "        break\n",
    "if x:\n",
    "    print(\"not valid\")\n",
    "    \n",
    "    "
   ]
  },
  {
   "cell_type": "code",
   "execution_count": null,
   "metadata": {},
   "outputs": [],
   "source": [
    "#ASSIGNMENT-3"
   ]
  },
  {
   "cell_type": "code",
   "execution_count": 26,
   "metadata": {},
   "outputs": [
    {
     "name": "stdout",
     "output_type": "stream",
     "text": [
      "input number:2\n",
      "input number:5\n",
      "32\n"
     ]
    }
   ],
   "source": [
    "#1\n",
    "x=int(input(\"input number:\"))\n",
    "y=int(input(\"input number:\"))\n",
    "    \n",
    "def po(x,y):\n",
    "    return x**y\n",
    "   \n",
    "print(po(x,y))\n"
   ]
  },
  {
   "cell_type": "code",
   "execution_count": 27,
   "metadata": {},
   "outputs": [
    {
     "name": "stdout",
     "output_type": "stream",
     "text": [
      "enter string1:hello\n",
      "enter string2:world\n",
      "helloworld\n"
     ]
    }
   ],
   "source": [
    "#2\n",
    "x=input(\"enter string1:\")\n",
    "y=input(\"enter string2:\")\n",
    "def con(x,y):\n",
    "    return x+y\n",
    "print(con(x,y))\n"
   ]
  },
  {
   "cell_type": "code",
   "execution_count": 5,
   "metadata": {},
   "outputs": [
    {
     "name": "stdout",
     "output_type": "stream",
     "text": [
      "enter number2\n",
      "True\n"
     ]
    }
   ],
   "source": [
    "#3\n",
    "n=int(input(\"enter number\"))\n",
    "def oe():\n",
    "     if(n%2==0):\n",
    "        return True\n",
    "     else:\n",
    "        return False\n",
    "print(oe())"
   ]
  },
  {
   "cell_type": "code",
   "execution_count": 8,
   "metadata": {},
   "outputs": [
    {
     "name": "stdout",
     "output_type": "stream",
     "text": [
      "enter number6\n",
      "False\n"
     ]
    }
   ],
   "source": [
    "#4(number is prime then true else false)\n",
    "n=int(input(\"enter number\"))\n",
    "def prime():\n",
    "    if n>1:\n",
    "        for i in range(2,n+1):\n",
    "            if(n%i==0):\n",
    "               \n",
    "                return False\n",
    "                break\n",
    "            else:\n",
    "                return  True\n",
    "print(prime())\n"
   ]
  },
  {
   "cell_type": "code",
   "execution_count": 1,
   "metadata": {},
   "outputs": [
    {
     "name": "stdout",
     "output_type": "stream",
     "text": [
      "enter the string :abba\n",
      "True\n"
     ]
    }
   ],
   "source": [
    "#5\n",
    "a=input(\"enter the string :\")\n",
    "b=a[::-1]\n",
    "def pali():\n",
    "    if(a==b):\n",
    "        return True\n",
    "    else:\n",
    "        return False\n",
    "print(pali())"
   ]
  },
  {
   "cell_type": "code",
   "execution_count": 10,
   "metadata": {},
   "outputs": [
    {
     "name": "stdout",
     "output_type": "stream",
     "text": [
      "enter string:hi i m good\n",
      "4\n"
     ]
    }
   ],
   "source": [
    "#6\n",
    "a=input(\"enter string:\")\n",
    "b=a.split(\" \")\n",
    "c=len(b)4\n",
    "print(c)"
   ]
  },
  {
   "cell_type": "code",
   "execution_count": 11,
   "metadata": {},
   "outputs": [
    {
     "name": "stdout",
     "output_type": "stream",
     "text": [
      "enter 3 numbers:4,5,6\n",
      "6\n"
     ]
    }
   ],
   "source": [
    "#7\n",
    "a=input(\"enter 3 numbers:\")\n",
    "b=a.split(\",\")\n",
    "print(max(b))"
   ]
  },
  {
   "cell_type": "code",
   "execution_count": 2,
   "metadata": {},
   "outputs": [
    {
     "name": "stdout",
     "output_type": "stream",
     "text": [
      "enter the value:10\n",
      "enter the value4\n",
      "5\n",
      "11\n",
      "14\n",
      "17\n",
      "23\n",
      "26\n",
      "29\n",
      "35\n",
      "38\n",
      "41\n"
     ]
    }
   ],
   "source": [
    "#8\n",
    "n1=int(input(\"enter the value:\"))\n",
    "n2=int(input(\"enter the value\"))\n",
    "\n",
    "for i in range(1,n1+5):\n",
    "        x= (3*i)+2\n",
    "        if(x%n2==0):\n",
    "            pass\n",
    "        else:\n",
    "            print(x)\n",
    "\n",
    "    "
   ]
  },
  {
   "cell_type": "code",
   "execution_count": 5,
   "metadata": {},
   "outputs": [
    {
     "name": "stdout",
     "output_type": "stream",
     "text": [
      "enter the num:1234\n",
      "4321\n"
     ]
    }
   ],
   "source": [
    "#9\n",
    "n=input(\"enter the num:\")\n",
    "b=n[::-1]\n",
    "print(b)"
   ]
  },
  {
   "cell_type": "code",
   "execution_count": null,
   "metadata": {},
   "outputs": [],
   "source": [
    "#10same"
   ]
  },
  {
   "cell_type": "code",
   "execution_count": 1,
   "metadata": {},
   "outputs": [
    {
     "name": "stdout",
     "output_type": "stream",
     "text": [
      "enter:1005\n",
      "1555\n"
     ]
    }
   ],
   "source": [
    "#11\n",
    "n=input(\"enter:\")\n",
    "b=n.replace(\"0\",\"5\")\n",
    "print(b)"
   ]
  },
  {
   "cell_type": "code",
   "execution_count": 1,
   "metadata": {},
   "outputs": [
    {
     "name": "stdout",
     "output_type": "stream",
     "text": [
      "enter a number:5\n",
      "5\n",
      "10\n",
      "15\n",
      "20\n",
      "25\n",
      "30\n",
      "35\n",
      "40\n",
      "45\n",
      "50\n"
     ]
    }
   ],
   "source": [
    "#12\n",
    "n=int(input(\"enter a number:\"))\n",
    "for i in range(1,11):\n",
    "    a=n*i\n",
    "    print(a)"
   ]
  },
  {
   "cell_type": "code",
   "execution_count": 1,
   "metadata": {},
   "outputs": [
    {
     "name": "stdout",
     "output_type": "stream",
     "text": [
      "enter:1234\n",
      "10\n"
     ]
    }
   ],
   "source": [
    "#13\n",
    "n=int(input(\"enter:\"))\n",
    "temp=n\n",
    "sum=0\n",
    "while(temp!=0):\n",
    "    b=temp%10\n",
    "    sum=sum+b\n",
    "    temp=temp//10\n",
    "print(sum)"
   ]
  },
  {
   "cell_type": "code",
   "execution_count": 4,
   "metadata": {},
   "outputs": [
    {
     "ename": "SyntaxError",
     "evalue": "unexpected character after line continuation character (<ipython-input-4-d1db67825eef>, line 5)",
     "output_type": "error",
     "traceback": [
      "\u001b[1;36m  File \u001b[1;32m\"<ipython-input-4-d1db67825eef>\"\u001b[1;36m, line \u001b[1;32m5\u001b[0m\n\u001b[1;33m    if re.search(\"['!()-[]{};:'\"\\,<>./?@#$%^&*_~')\"],p))):\u001b[0m\n\u001b[1;37m                                                          ^\u001b[0m\n\u001b[1;31mSyntaxError\u001b[0m\u001b[1;31m:\u001b[0m unexpected character after line continuation character\n"
     ]
    }
   ],
   "source": [
    "#14\n",
    "import re\n",
    "p=input(\"enter your string\")\n",
    "x=True\n",
    "if re.search(\"['!()-[]{};:'\"\\,<>./?@#$%^&*_~')\"],p))):\n",
    "             break\n",
    "else:\n",
    "             x=False\n",
    "             pass\n",
    "if:\n",
    "             print(p)\n",
    "             \n",
    "             \n",
    "             "
   ]
  },
  {
   "cell_type": "code",
   "execution_count": null,
   "metadata": {},
   "outputs": [],
   "source": []
  }
 ],
 "metadata": {
  "kernelspec": {
   "display_name": "Python 3",
   "language": "python",
   "name": "python3"
  },
  "language_info": {
   "codemirror_mode": {
    "name": "ipython",
    "version": 3
   },
   "file_extension": ".py",
   "mimetype": "text/x-python",
   "name": "python",
   "nbconvert_exporter": "python",
   "pygments_lexer": "ipython3",
   "version": "3.7.3"
  }
 },
 "nbformat": 4,
 "nbformat_minor": 2
}
